{
 "cells": [
  {
   "cell_type": "markdown",
   "id": "4738e139",
   "metadata": {},
   "source": [
    "# Challenge 1: For Loops"
   ]
  },
  {
   "cell_type": "markdown",
   "id": "2082a3be",
   "metadata": {},
   "source": []
  }
 ],
 "metadata": {
  "language_info": {
   "name": "python"
  }
 },
 "nbformat": 4,
 "nbformat_minor": 5
}
